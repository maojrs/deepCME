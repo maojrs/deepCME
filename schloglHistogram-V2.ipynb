{
 "cells": [
  {
   "cell_type": "code",
   "execution_count": null,
   "metadata": {},
   "outputs": [],
   "source": [
    "import numpy as np\n",
    "import matplotlib.pyplot as plt\n",
    "import tensorflow as tf\n",
    "from joblib import Parallel, delayed\n",
    "import multiprocessing\n",
    "from ipywidgets import interact, interactive, fixed, interact_manual\n",
    "import ipywidgets as widgets\n",
    "from main.schlogModel import schloglModel\n",
    "from main.neuralNetwork import neuralNetworkCME"
   ]
  },
  {
   "cell_type": "code",
   "execution_count": null,
   "metadata": {},
   "outputs": [],
   "source": [
    "# Define Schlogl model\n",
    "smodel = schloglModel()\n",
    "\n",
    "# Define and set parameters\n",
    "concA = 10.\n",
    "concB = 20.\n",
    "k1 = 6.\n",
    "k2 = 1.0\n",
    "k3 = 230.\n",
    "k4 = 1000.\n",
    "vol = 8.\n",
    "smodel.setModelParameters(concA, concB, k1, k2, k3, k4, vol)"
   ]
  },
  {
   "cell_type": "code",
   "execution_count": null,
   "metadata": {},
   "outputs": [],
   "source": [
    "# Define data parameters\n",
    "domain = [0, 500]\n",
    "dt = 0.0001\n",
    "stride = 10\n",
    "timesteps = 1000\n",
    "data_size = 4096 #2560\n",
    "data_multiplier = 20\n",
    "in_dimension = 1\n",
    "out_dimension = 50\n",
    "smodel.setDataParameters(domain[0], domain[1], dt, stride, timesteps, data_size, data_multiplier, out_dimension)"
   ]
  },
  {
   "cell_type": "code",
   "execution_count": null,
   "metadata": {},
   "outputs": [],
   "source": [
    "# Generate and/or load data\n",
    "generateData = False\n",
    "filename = \"data/schlogl_data_vol\" + str(vol) + \"_ndata\" + str(data_size) + \".dat\"\n",
    "if generateData:\n",
    "    smodel.generateData()\n",
    "inputData, targetData = smodel.loadData(filename)"
   ]
  },
  {
   "cell_type": "code",
   "execution_count": null,
   "metadata": {},
   "outputs": [],
   "source": [
    "# Network setup\n",
    "neurons_per_layer = 70 #50 #40 #50 #40 #20 #15 #35 #20  # number of neurons per hidden layer\n",
    "num_layers = 15 #25 #15 #30 #15 #10 #10 #10 #6          # number of hidden layers\n",
    "activation = tf.nn.relu #tf.sigmoid                     #hidden layer activation function\n",
    "\n",
    "# training settings\n",
    "batch_size   = 128 #64 #2048\n",
    "num_epochs = 200\n",
    "\n",
    "# Other\n",
    "outscale = (domain[1] - domain[0])/out_dimension"
   ]
  },
  {
   "cell_type": "code",
   "execution_count": null,
   "metadata": {},
   "outputs": [],
   "source": [
    "# Define the neural network\n",
    "nnetworkCME = neuralNetworkCME(inputData, targetData, num_layers, neurons_per_layer, activation, in_dimension, out_dimension)"
   ]
  },
  {
   "cell_type": "code",
   "execution_count": null,
   "metadata": {},
   "outputs": [],
   "source": [
    "# # Start Tensorflow session and initialize all network variables\n",
    "# session = tf.Session()\n",
    "# session.run(tf.global_variables_initializer())"
   ]
  },
  {
   "cell_type": "code",
   "execution_count": null,
   "metadata": {},
   "outputs": [],
   "source": [
    "# Run the training\n",
    "nnetworkCME.train(num_epochs, batch_size, data_size)"
   ]
  },
  {
   "cell_type": "code",
   "execution_count": null,
   "metadata": {},
   "outputs": [],
   "source": [
    "# Plor for vector case\n",
    "plt.rcParams['figure.figsize'] = (11,8)\n",
    "\n",
    "# Generate full sample grid of input domain\n",
    "xgrid = np.linspace(domain[0] + 1, domain[1], num=500)\n",
    "time = 0*np.ones(len(xgrid))\n",
    "input_test_batch = np.reshape(np.column_stack((xgrid,time)) , [-1,2])\n",
    "\n",
    "# Generate output with network\n",
    "prediction_test_batch = nnetworkCME.runNetwork(input_test_batch)\n",
    "\n",
    "# Remove negative entries and renormalize\n",
    "x0index = 50\n",
    "#renormalized_output = np.mean(prediction_test_batch, axis=0)\n",
    "renormalized_output = prediction_test_batch[x0index]\n",
    "renormalized_output[renormalized_output<0] = 0.0\n",
    "renormalized_output = renormalized_output/np.sum(renormalized_output)\n",
    "\n",
    "plt.bar(np.arange(outscale/2,outscale*out_dimension,outscale),renormalized_output/outscale, \n",
    "        width=outscale, label=\"NN\", color=(0.0, 0.4, 1.0, 0.5))\n",
    "\n",
    "# Calculate steady state analytically\n",
    "n=np.linspace(domain[0], (domain[1]-domain[0])-1, domain[1]-domain[0])\n",
    "ss_solution=np.zeros(len(n))\n",
    "for i in range(len(n)):\n",
    "    ss_solution[i] = smodel.steadystate_solution(i)\n",
    "\n",
    "ss_solution = ss_solution/np.sum(ss_solution)\n",
    "\n",
    "# Plot analytic solution\n",
    "plt.plot(n,ss_solution, '-r', lw = 3, label=\"Steady state (exact)\")\n",
    "# plt.plot(n,np.log(ss_solution))\n",
    "\n",
    "plt.xlim([0, 400])\n",
    "#plt.ylim([0.0,0.02])\n",
    "plt.ylabel('Probability', fontsize = 35)\n",
    "plt.xlabel('$X[T]$', fontsize = 35)\n",
    "plt.legend(fontsize = 35)\n",
    "plt.tick_params(labelsize=30)\n",
    "plt.locator_params(axis='y', nbins=6)\n",
    "plt.show()"
   ]
  },
  {
   "cell_type": "code",
   "execution_count": null,
   "metadata": {},
   "outputs": [],
   "source": [
    "def interactive_output(x,t):\n",
    "    netInput = np.reshape(np.column_stack((x,t)) , [-1,2]) \n",
    "    prediction = session.run( networkPrediction, feed_dict={networkInput: netInput})\n",
    "    # Remove negative entries and renormalize\n",
    "    #renormalized_output = np.mean(prediction_test_batch, axis=0)\n",
    "    prediction[prediction<0] = 0.0\n",
    "    prediction = prediction/np.sum(prediction)\n",
    "\n",
    "    plt.bar(np.arange(1,outscale*OUTPUT_RES,outscale),prediction[0]/outscale, width=outscale)\n",
    "    plt.plot(n,ss_solution, '-r')\n",
    "    plt.xlim([DOMAIN[0], DOMAIN[1]-100])\n",
    "    plt.ylim([0, 0.05])\n",
    "    plt.ylabel('Histogram')\n",
    "    plt.show()\n",
    "\n",
    "interactive_plot = interactive(interactive_output, x=(DOMAIN[0],DOMAIN[1]-100,10), t=(0,100,10))\n",
    "output = interactive_plot.children[-1]\n",
    "interactive_plot"
   ]
  },
  {
   "cell_type": "markdown",
   "metadata": {},
   "source": [
    "## TESTS"
   ]
  }
 ],
 "metadata": {
  "kernelspec": {
   "display_name": "Python 3",
   "language": "python",
   "name": "python3"
  },
  "language_info": {
   "codemirror_mode": {
    "name": "ipython",
    "version": 3
   },
   "file_extension": ".py",
   "mimetype": "text/x-python",
   "name": "python",
   "nbconvert_exporter": "python",
   "pygments_lexer": "ipython3",
   "version": "3.6.6"
  }
 },
 "nbformat": 4,
 "nbformat_minor": 2
}
